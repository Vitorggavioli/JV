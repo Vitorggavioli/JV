{
  "nbformat": 4,
  "nbformat_minor": 0,
  "metadata": {
    "colab": {
      "provenance": [],
      "authorship_tag": "ABX9TyMhj/E1V3C5B6c3yQ6rmQHQ",
      "include_colab_link": true
    },
    "kernelspec": {
      "name": "python3",
      "display_name": "Python 3"
    },
    "language_info": {
      "name": "python"
    }
  },
  "cells": [
    {
      "cell_type": "markdown",
      "metadata": {
        "id": "view-in-github",
        "colab_type": "text"
      },
      "source": [
        "<a href=\"https://colab.research.google.com/github/Vitorggavioli/JV/blob/main/p2.ipynb\" target=\"_parent\"><img src=\"https://colab.research.google.com/assets/colab-badge.svg\" alt=\"Open In Colab\"/></a>"
      ]
    },
    {
      "cell_type": "code",
      "execution_count": 1,
      "metadata": {
        "colab": {
          "base_uri": "https://localhost:8080/",
          "height": 348
        },
        "id": "GrIHV3kgAbwC",
        "outputId": "629ac657-f308-4a00-da62-1bbc23b2f2da"
      },
      "outputs": [
        {
          "output_type": "stream",
          "name": "stdout",
          "text": [
            "[30-11-2024 16:58:11] Temperatura atual: -192.61°C\n",
            "[30-11-2024 16:58:14] ATENÇÃO! Abasteça com urgência: -187.62°C\n"
          ]
        },
        {
          "output_type": "error",
          "ename": "KeyboardInterrupt",
          "evalue": "",
          "traceback": [
            "\u001b[0;31m---------------------------------------------------------------------------\u001b[0m",
            "\u001b[0;31mKeyboardInterrupt\u001b[0m                         Traceback (most recent call last)",
            "\u001b[0;32m<ipython-input-1-c87605fb58ed>\u001b[0m in \u001b[0;36m<cell line: 27>\u001b[0;34m()\u001b[0m\n\u001b[1;32m     25\u001b[0m         \u001b[0mdf\u001b[0m\u001b[0;34m.\u001b[0m\u001b[0mto_excel\u001b[0m\u001b[0;34m(\u001b[0m\u001b[0;34m\"temperatura_dados.xlsx\"\u001b[0m\u001b[0;34m,\u001b[0m \u001b[0mindex\u001b[0m\u001b[0;34m=\u001b[0m\u001b[0;32mFalse\u001b[0m\u001b[0;34m,\u001b[0m \u001b[0mengine\u001b[0m\u001b[0;34m=\u001b[0m\u001b[0;34m\"openpyxl\"\u001b[0m\u001b[0;34m)\u001b[0m\u001b[0;34m\u001b[0m\u001b[0;34m\u001b[0m\u001b[0m\n\u001b[1;32m     26\u001b[0m \u001b[0;34m\u001b[0m\u001b[0m\n\u001b[0;32m---> 27\u001b[0;31m \u001b[0mmonitor_temperatura\u001b[0m\u001b[0;34m(\u001b[0m\u001b[0mintervalo_em_segundos\u001b[0m\u001b[0;34m,\u001b[0m \u001b[0mlimite_min\u001b[0m\u001b[0;34m,\u001b[0m \u001b[0mlimite_max\u001b[0m\u001b[0;34m)\u001b[0m\u001b[0;34m\u001b[0m\u001b[0;34m\u001b[0m\u001b[0m\n\u001b[0m",
            "\u001b[0;32m<ipython-input-1-c87605fb58ed>\u001b[0m in \u001b[0;36mmonitor_temperatura\u001b[0;34m(intervalo, limite_min, limite_max)\u001b[0m\n\u001b[1;32m     20\u001b[0m         \u001b[0;32melif\u001b[0m \u001b[0;34m-\u001b[0m\u001b[0;36m185\u001b[0m \u001b[0;34m<=\u001b[0m \u001b[0mtemperatura\u001b[0m \u001b[0;34m<=\u001b[0m \u001b[0;34m-\u001b[0m\u001b[0;36m180\u001b[0m\u001b[0;34m:\u001b[0m\u001b[0;34m\u001b[0m\u001b[0;34m\u001b[0m\u001b[0m\n\u001b[1;32m     21\u001b[0m             \u001b[0mprint\u001b[0m\u001b[0;34m(\u001b[0m\u001b[0;34mf\"[{timestamp}] ABASTEÇA IMEDIATAMENTE!: {temperatura}°C\"\u001b[0m\u001b[0;34m)\u001b[0m\u001b[0;34m\u001b[0m\u001b[0;34m\u001b[0m\u001b[0m\n\u001b[0;32m---> 22\u001b[0;31m         \u001b[0mtime\u001b[0m\u001b[0;34m.\u001b[0m\u001b[0msleep\u001b[0m\u001b[0;34m(\u001b[0m\u001b[0mintervalo\u001b[0m\u001b[0;34m)\u001b[0m\u001b[0;34m\u001b[0m\u001b[0;34m\u001b[0m\u001b[0m\n\u001b[0m\u001b[1;32m     23\u001b[0m         \u001b[0mdata\u001b[0m \u001b[0;34m=\u001b[0m \u001b[0;34m{\u001b[0m\u001b[0;34m\"Temperatura\"\u001b[0m\u001b[0;34m:\u001b[0m \u001b[0;34m[\u001b[0m\u001b[0mtemperatura\u001b[0m\u001b[0;34m]\u001b[0m\u001b[0;34m}\u001b[0m\u001b[0;34m\u001b[0m\u001b[0;34m\u001b[0m\u001b[0m\n\u001b[1;32m     24\u001b[0m         \u001b[0mdf\u001b[0m\u001b[0;34m=\u001b[0m \u001b[0mpd\u001b[0m\u001b[0;34m.\u001b[0m\u001b[0mDataFrame\u001b[0m\u001b[0;34m(\u001b[0m\u001b[0mdata\u001b[0m\u001b[0;34m)\u001b[0m\u001b[0;34m\u001b[0m\u001b[0;34m\u001b[0m\u001b[0m\n",
            "\u001b[0;31mKeyboardInterrupt\u001b[0m: "
          ]
        }
      ],
      "source": [
        "import random\n",
        "import time\n",
        "from datetime import datetime\n",
        "import pandas as pd\n",
        "intervalo_em_segundos = 2\n",
        "limite_min = -198\n",
        "limite_max = -180\n",
        "\n",
        "def monitor_temperatura(intervalo, limite_min, limite_max):\n",
        "       while True:\n",
        "        temperatura = round(random.uniform(limite_min, limite_max), 2)\n",
        "        timestamp = datetime.now().strftime(\"%d-%m-%Y %H:%M:%S\")\n",
        "\n",
        "        if -198 <= temperatura <= -191:\n",
        "            print(f\"[{timestamp}] Temperatura atual: {temperatura}°C\")\n",
        "        elif -191 <= temperatura <= -189:\n",
        "            print(f\"[{timestamp}] ALERTA! Temperatura fora do limite: {temperatura}°C\")\n",
        "        elif -189 <= temperatura <= -185:\n",
        "            print(f\"[{timestamp}] ATENÇÃO! Abasteça com urgência: {temperatura}°C\")\n",
        "        elif -185 <= temperatura <= -180:\n",
        "            print(f\"[{timestamp}] ABASTEÇA IMEDIATAMENTE!: {temperatura}°C\")\n",
        "        time.sleep(intervalo)\n",
        "        data = {\"Temperatura\": [temperatura]}\n",
        "        df= pd.DataFrame(data)\n",
        "        df.to_excel(\"temperatura_dados.xlsx\", index=False, engine=\"openpyxl\")\n",
        "\n",
        "monitor_temperatura(intervalo_em_segundos, limite_min, limite_max)"
      ]
    }
  ]
}